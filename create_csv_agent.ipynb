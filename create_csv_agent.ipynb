{
 "cells": [
  {
   "cell_type": "code",
   "execution_count": 1,
   "id": "36eaec04-a10f-4c04-8ca0-f378be165cb1",
   "metadata": {},
   "outputs": [],
   "source": [
    "import boto3  # AWS SDK for Python(integrate AWS services for Python)\n",
    "from langchain_aws import ChatBedrock\n",
    "import streamlit as st\n",
    "from streamlit_chat import message"
   ]
  },
  {
   "cell_type": "code",
   "execution_count": 44,
   "id": "5cb60d42-3315-4ce0-a86a-4a0cab25a815",
   "metadata": {},
   "outputs": [],
   "source": [
    "## Add Contexual compressor\n",
    "from langchain_experimental.agents import create_csv_agent\n",
    "from langchain.agents.agent_types import AgentType\n",
    "import pandas as pd"
   ]
  },
  {
   "cell_type": "code",
   "execution_count": 56,
   "id": "3db62e8e-356e-40d5-9151-badc1516a7b0",
   "metadata": {},
   "outputs": [],
   "source": [
    "llm = ChatBedrock(\n",
    "                      model_id='anthropic.claude-3-sonnet-20240229-v1:0',\n",
    "                      model_kwargs={\"temperature\": 0.12, \"max_tokens\": 2000},\n",
    "                      client=br_runtime\n",
    "        )\n",
    "\n",
    "agent = create_csv_agent(llm,\n",
    "                         'data/consolidated_dset_file.csv',\n",
    "                         verbose=True,\n",
    "                         agent_type=AgentType.ZERO_SHOT_REACT_DESCRIPTION\n",
    "                        )"
   ]
  },
  {
   "cell_type": "code",
   "execution_count": 58,
   "id": "344653c0-7068-4cd9-9984-ef5670acf82b",
   "metadata": {},
   "outputs": [
    {
     "name": "stdout",
     "output_type": "stream",
     "text": [
      "\n",
      "\n",
      "\u001b[1m> Entering new AgentExecutor chain...\u001b[0m\n",
      "\u001b[32;1m\u001b[1;3mThought: To get the table names from the dataset, I need to extract the unique values from the 'Table Name' column of the dataframe.\n",
      "\n",
      "Action: python_repl_ast\n",
      "Action Input:\n",
      "unique_table_names = df['Table Name'].unique()\n",
      "print(unique_table_names)\u001b[0m\u001b[36;1m\u001b[1;3m['ameri_part_demo_grp' 'fre_origination_data' 'fre_performance_data'\n",
      " 'fan_loan_perf']\n",
      "\u001b[0m\u001b[32;1m\u001b[1;3mTo display the unique table names in a tabular format, I will create a new dataframe with a single column containing the unique table names.\n",
      "\n",
      "Action: python_repl_ast\n",
      "Action Input:\n",
      "import pandas as pd\n",
      "table_names_df = pd.DataFrame({'Table Name': unique_table_names})\n",
      "print(table_names_df)\n",
      "\u001b[0m\u001b[36;1m\u001b[1;3m             Table Name\n",
      "0   ameri_part_demo_grp\n",
      "1  fre_origination_data\n",
      "2  fre_performance_data\n",
      "3         fan_loan_perf\n",
      "\u001b[0m\u001b[32;1m\u001b[1;3mThought: I now have the unique table names from the dataset in a tabular format.\n",
      "\n",
      "Final Answer:\n",
      "\n",
      "The table names from the dataset are:\n",
      "\n",
      "| Table Name           |\n",
      "|----------------------|\n",
      "| ameri_part_demo_grp  |\n",
      "| fre_origination_data |  \n",
      "| fre_performance_data |\n",
      "| fan_loan_perf        |\u001b[0m\n",
      "\n",
      "\u001b[1m> Finished chain.\u001b[0m\n",
      "The table names from the dataset are:\n",
      "\n",
      "| Table Name           |\n",
      "|----------------------|\n",
      "| ameri_part_demo_grp  |\n",
      "| fre_origination_data |  \n",
      "| fre_performance_data |\n",
      "| fan_loan_perf        |\n"
     ]
    }
   ],
   "source": [
    "output = agent.run(\"Give me the table names from the dataset.Show it in the tabular format\")\n",
    "print(output)"
   ]
  },
  {
   "cell_type": "code",
   "execution_count": 32,
   "id": "ddb6f42c-876f-4cc2-8e6b-b9139215f5b5",
   "metadata": {},
   "outputs": [
    {
     "name": "stdout",
     "output_type": "stream",
     "text": [
      "(188, 53)\n"
     ]
    }
   ],
   "source": [
    "df = pd.read_csv('data/consolidated_dset_file.csv')\n",
    "print(df.shape)"
   ]
  },
  {
   "cell_type": "code",
   "execution_count": 59,
   "id": "d4aa0603-004a-4737-88a6-069764fdcc79",
   "metadata": {},
   "outputs": [
    {
     "name": "stdout",
     "output_type": "stream",
     "text": [
      "\n",
      "\n",
      "\u001b[1m> Entering new AgentExecutor chain...\u001b[0m\n",
      "\u001b[32;1m\u001b[1;3mThought: To find the number of logical attributes in the table 'fan_loan_perf', I need to first check if the dataframe 'df' contains that table. If it does, I can then count the number of unique 'Logical Attribute Name' values.\n",
      "\n",
      "Action: python_repl_ast\n",
      "Action Input:\n",
      "print(df['Table Name'].unique())\n",
      "\u001b[0m\u001b[36;1m\u001b[1;3m['ameri_part_demo_grp' 'fre_origination_data' 'fre_performance_data'\n",
      " 'fan_loan_perf']\n",
      "\u001b[0m\u001b[32;1m\u001b[1;3mThought: The dataframe `df` contains the table 'fan_loan_perf'. To count the number of logical attributes in this table, I need to filter the rows where 'Table Name' is 'fan_loan_perf', and then count the unique values in the 'Logical Attribute Name' column.\n",
      "\n",
      "Action: python_repl_ast\n",
      "Action Input:\n",
      "fan_loan_perf_df = df[df['Table Name'] == 'fan_loan_perf']\n",
      "print(fan_loan_perf_df['Logical Attribute Name'].nunique())\n",
      "\u001b[0m\u001b[36;1m\u001b[1;3m110\n",
      "\u001b[0m\u001b[32;1m\u001b[1;3mThought: I now have the information needed to answer the original question.\n",
      "\n",
      "Final Answer: There are 110 logical attributes in the table 'fan_loan_perf'.\u001b[0m\n",
      "\n",
      "\u001b[1m> Finished chain.\u001b[0m\n",
      "There are 110 logical attributes in the table 'fan_loan_perf'.\n"
     ]
    }
   ],
   "source": [
    "\n",
    "output = agent.run(\"how many logical attributes exist in the table 'fan_loan_perf'?\")\n",
    "print(output)"
   ]
  },
  {
   "cell_type": "code",
   "execution_count": 23,
   "id": "8a839dea-496c-4ca9-a6f9-06b77cb667f2",
   "metadata": {},
   "outputs": [
    {
     "name": "stdout",
     "output_type": "stream",
     "text": [
      "110\n"
     ]
    }
   ],
   "source": [
    "#print(df[df['Table Name'] == 'fan_loan_perf']['Logical Attribute Name'].nunique())"
   ]
  },
  {
   "cell_type": "code",
   "execution_count": 63,
   "id": "bea23857-2f0c-4c56-854b-0f99190f19d7",
   "metadata": {},
   "outputs": [
    {
     "name": "stdout",
     "output_type": "stream",
     "text": [
      "\n",
      "\n",
      "\u001b[1m> Entering new AgentExecutor chain...\u001b[0m\n",
      "\u001b[32;1m\u001b[1;3mThought: To find the logical attribute names containing \"upb\" and the corresponding table names, I can filter the dataframe on the \"Logical Attribute Name\" column and select the relevant columns.\n",
      "\n",
      "Action: python_repl_ast\n",
      "Action Input:\n",
      "import pandas as pd\n",
      "upb_attrs = df[df[\"Logical Attribute Name\"].str.contains(\"upb\", case=False)]\n",
      "print(upb_attrs[[\"Logical Attribute Name\", \"Table Name\"]])\n",
      "\u001b[0m\u001b[36;1m\u001b[1;3m       Logical Attribute Name            Table Name\n",
      "24               Original UPB  fre_origination_data\n",
      "48         Current Actual UPB  fre_performance_data\n",
      "57       Current Deferred UPB  fre_performance_data\n",
      "72   Zero Balance Removal UPB  fre_performance_data\n",
      "77       Interest Bearing UPB  fre_performance_data\n",
      "87                   orig upb         fan_loan_perf\n",
      "88            upb at issuance         fan_loan_perf\n",
      "89                   curr upb         fan_loan_perf\n",
      "123               removal upb         fan_loan_perf\n",
      "140      mod non int bear upb         fan_loan_perf\n",
      "\u001b[0m\u001b[32;1m\u001b[1;3mThought: The output shows the logical attribute names containing \"upb\" and their corresponding table names. I can provide this as the final answer.\n",
      "\n",
      "Final Answer: The logical attribute names containing \"upb\" and their corresponding table names are:\n",
      "\n",
      "Logical Attribute Name     Table Name\n",
      "Original UPB                fre_origination_data\n",
      "Current Actual UPB          fre_performance_data  \n",
      "Current Deferred UPB        fre_performance_data\n",
      "Zero Balance Removal UPB    fre_performance_data\n",
      "Interest Bearing UPB        fre_performance_data\n",
      "orig upb                    fan_loan_perf\n",
      "upb at issuance             fan_loan_perf\n",
      "curr upb                    fan_loan_perf\n",
      "removal upb                 fan_loan_perf\n",
      "mod non int bear upb        fan_loan_perf\u001b[0m\n",
      "\n",
      "\u001b[1m> Finished chain.\u001b[0m\n",
      "The logical attribute names containing \"upb\" and their corresponding table names are:\n",
      "\n",
      "Logical Attribute Name     Table Name\n",
      "Original UPB                fre_origination_data\n",
      "Current Actual UPB          fre_performance_data  \n",
      "Current Deferred UPB        fre_performance_data\n",
      "Zero Balance Removal UPB    fre_performance_data\n",
      "Interest Bearing UPB        fre_performance_data\n",
      "orig upb                    fan_loan_perf\n",
      "upb at issuance             fan_loan_perf\n",
      "curr upb                    fan_loan_perf\n",
      "removal upb                 fan_loan_perf\n",
      "mod non int bear upb        fan_loan_perf\n"
     ]
    }
   ],
   "source": [
    "output = agent.run(\"give me the logical attibutes names containing upb?. Also list the table names for the shortlisted attributes\")\n",
    "print(output)"
   ]
  },
  {
   "cell_type": "code",
   "execution_count": 29,
   "id": "58f6bd51-b555-48c5-a624-935c6fd2db0a",
   "metadata": {},
   "outputs": [
    {
     "data": {
      "text/plain": [
       "78     False\n",
       "79     False\n",
       "80     False\n",
       "81     False\n",
       "82     False\n",
       "       ...  \n",
       "183    False\n",
       "184    False\n",
       "185    False\n",
       "186    False\n",
       "187    False\n",
       "Name: Logical Attribute Name, Length: 110, dtype: bool"
      ]
     },
     "execution_count": 29,
     "metadata": {},
     "output_type": "execute_result"
    }
   ],
   "source": []
  },
  {
   "cell_type": "code",
   "execution_count": null,
   "id": "508be3e7-1736-496c-9e34-5ea849089521",
   "metadata": {},
   "outputs": [],
   "source": []
  }
 ],
 "metadata": {
  "kernelspec": {
   "display_name": "Python 3 (ipykernel)",
   "language": "python",
   "name": "python3"
  },
  "language_info": {
   "codemirror_mode": {
    "name": "ipython",
    "version": 3
   },
   "file_extension": ".py",
   "mimetype": "text/x-python",
   "name": "python",
   "nbconvert_exporter": "python",
   "pygments_lexer": "ipython3",
   "version": "3.10.14"
  }
 },
 "nbformat": 4,
 "nbformat_minor": 5
}
